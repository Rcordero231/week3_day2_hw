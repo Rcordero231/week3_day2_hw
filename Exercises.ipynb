{
 "cells": [
  {
   "cell_type": "markdown",
   "metadata": {},
   "source": [
    "#### Exercise 1 - Class Inheritance"
   ]
  },
  {
   "cell_type": "markdown",
   "metadata": {},
   "source": [
    "Create an Employee class that sets an employee's first name, last name, job title, salary, and email. The Employee class should have a class attribute for the raise amount set to 5% (1.05). Create a method that will apply the raise to an employee's salary."
   ]
  },
  {
   "cell_type": "code",
   "execution_count": 2,
   "metadata": {},
   "outputs": [],
   "source": [
    "# Write the Employee Parent Class Here\n",
    "\n",
    "class Employee:\n",
    "    \n",
    "    def __init__(self, first, last, title, salary, email):\n",
    "        self.first = first\n",
    "        self.last = last\n",
    "        self.title = title\n",
    "        self.salary = salary\n",
    "        self.email = email\n",
    "        \n",
    "    def __str__ (self):\n",
    "        return f\"{self.first} {self.last}\"\n",
    "        \n",
    "    def pay_raise (self):\n",
    "        raise_amount = self.salary * .05\n",
    "        new_pay = raise_amount + self.salary\n",
    "        \n",
    "        return f\"{self.first} {self.last} congratulations on the raise! Your old salary of {self.salary} has gon up by 5% or {raise_amount} and is now {new_pay}\"\n",
    "        "
   ]
  },
  {
   "cell_type": "code",
   "execution_count": 3,
   "metadata": {},
   "outputs": [
    {
     "name": "stdout",
     "output_type": "stream",
     "text": [
      "Ricardo Cordero\n"
     ]
    },
    {
     "data": {
      "text/plain": [
       "'Ricardo Cordero congratulations on the raise! Your old salary of 45000 has gon up by 5% or 2250.0 and is now 47250.0'"
      ]
     },
     "execution_count": 3,
     "metadata": {},
     "output_type": "execute_result"
    }
   ],
   "source": [
    "employee1 = Employee('Ricardo', 'Cordero', 'Caregiver', 45000, 'email_address@email.com')\n",
    "print(employee1)\n",
    "\n",
    "employee1.pay_raise()"
   ]
  },
  {
   "cell_type": "markdown",
   "metadata": {},
   "source": [
    "Create two more classes that inherit from the Employee class. One for Sales and one for Development. Both of these classes will have the same attributes as the Employee.<br>\n",
    "- For the Sales employees, add a phone number attribute on instantiation using the super method. \n",
    "- Create a method on the Sales class that will \"Send a Follow Up Email\". It should take in a customer name and \"send\" aka print a formatted email \"Dear *customer*, Thank you for your interest in our product. Please let me know if you have any questions. My email is *email* or my phone number is *phone number*. Thanks, *full name*\"\n",
    "- Create a method on the Development class called code that will print out \"*full name* is writing code\"."
   ]
  },
  {
   "cell_type": "code",
   "execution_count": 4,
   "metadata": {},
   "outputs": [],
   "source": [
    "# Write the Sales child Class Here\n",
    "\n",
    "class Sales(Employee):\n",
    "    \n",
    "    def __init__(self, first, last, title, salary, email, phone_number):\n",
    "        super().__init__(first, last, title, salary, email)\n",
    "        self.phone_number = phone_number\n",
    "        \n",
    "    def __str__ (self):\n",
    "        return f\"{self.first} {self.last} {self.title}\"\n",
    "        \n",
    "    def follow_up(self, customer):\n",
    "        return f\"Dear {customer}, Thank you for your interest in our product. Please let me know if you have any questions. My email is {self.email} or my phone number is {self.phone_number}. Thanks, {self.last} {self.first}\"\n",
    "\n",
    "    \n",
    "    # Write the Development child Class Here\n",
    "class Development(Employee):\n",
    "        \n",
    "    def code(self):\n",
    "        print(f\"{self} is writing code\")"
   ]
  },
  {
   "cell_type": "markdown",
   "metadata": {},
   "source": [
    "- Create an instance of a Sales Employee with a salary of $50,000.\n",
    "- Send follow up emails to \"Mike O'Neil\" and \"Hannah Stern\"\n",
    "- Give the employee a raise and print the salary"
   ]
  },
  {
   "cell_type": "code",
   "execution_count": 5,
   "metadata": {},
   "outputs": [
    {
     "name": "stdout",
     "output_type": "stream",
     "text": [
      "Andrew Cordero Sales\n"
     ]
    }
   ],
   "source": [
    "# Create the instance\n",
    "sales1 = Sales('Andrew', 'Cordero', 'Sales', 80000, 'blabla@blehbleh.com', '(999) 999-9999')\n",
    "print(sales1)"
   ]
  },
  {
   "cell_type": "code",
   "execution_count": 6,
   "metadata": {},
   "outputs": [
    {
     "data": {
      "text/plain": [
       "'Dear Kevin, Thank you for your interest in our product. Please let me know if you have any questions. My email is blabla@blehbleh.com or my phone number is (999) 999-9999. Thanks, Cordero Andrew'"
      ]
     },
     "execution_count": 6,
     "metadata": {},
     "output_type": "execute_result"
    }
   ],
   "source": [
    "# Send follow up to Mike\n",
    "\n",
    "sales1.follow_up('Kevin')"
   ]
  },
  {
   "cell_type": "code",
   "execution_count": 7,
   "metadata": {},
   "outputs": [
    {
     "data": {
      "text/plain": [
       "'Dear Dorothy, Thank you for your interest in our product. Please let me know if you have any questions. My email is blabla@blehbleh.com or my phone number is (999) 999-9999. Thanks, Cordero Andrew'"
      ]
     },
     "execution_count": 7,
     "metadata": {},
     "output_type": "execute_result"
    }
   ],
   "source": [
    "# Send follow up to Hannah\n",
    "sales1.follow_up('Dorothy')"
   ]
  },
  {
   "cell_type": "code",
   "execution_count": 8,
   "metadata": {},
   "outputs": [
    {
     "data": {
      "text/plain": [
       "'Andrew Cordero congratulations on the raise! Your old salary of 80000 has gon up by 5% or 4000.0 and is now 84000.0'"
      ]
     },
     "execution_count": 8,
     "metadata": {},
     "output_type": "execute_result"
    }
   ],
   "source": [
    "# Give the sales employee a raise\n",
    "sales1.pay_raise()"
   ]
  },
  {
   "cell_type": "markdown",
   "metadata": {},
   "source": [
    "- Create an instance of a Development Employee with a salary of $100,000\n",
    "- Write some code with this employee\n",
    "- Give the employee a raise and print the salary"
   ]
  },
  {
   "cell_type": "code",
   "execution_count": 9,
   "metadata": {},
   "outputs": [
    {
     "name": "stdout",
     "output_type": "stream",
     "text": [
      "Elijah Moses\n"
     ]
    }
   ],
   "source": [
    "# Create the instance\n",
    "\n",
    "dev1 = Development('Elijah', 'Moses', 'Development', 105245, 'booboo@baahhbahh.com')\n",
    "print(dev1)"
   ]
  },
  {
   "cell_type": "code",
   "execution_count": 10,
   "metadata": {},
   "outputs": [
    {
     "name": "stdout",
     "output_type": "stream",
     "text": [
      "Elijah Moses is writing code\n"
     ]
    }
   ],
   "source": [
    "# Write some code (call code method)\n",
    "dev1.code()"
   ]
  },
  {
   "cell_type": "code",
   "execution_count": 11,
   "metadata": {},
   "outputs": [
    {
     "data": {
      "text/plain": [
       "'Elijah Moses congratulations on the raise! Your old salary of 105245 has gon up by 5% or 5262.25 and is now 110507.25'"
      ]
     },
     "execution_count": 11,
     "metadata": {},
     "output_type": "execute_result"
    }
   ],
   "source": [
    "# Give the dev employee a raise\n",
    "dev1.pay_raise()"
   ]
  },
  {
   "cell_type": "markdown",
   "metadata": {},
   "source": [
    "#### Exercise 2 - Importing Modules"
   ]
  },
  {
   "cell_type": "markdown",
   "metadata": {},
   "source": [
    "In VS Code, create a module titled `geometry` and add two functions in there. One that will calculate the area of a circle given a radius. The second will find the hypotenuse of a right angle given the two sides. Import the module or the functions from the module and use it to find the answers to the below questions"
   ]
  },
  {
   "cell_type": "markdown",
   "metadata": {},
   "source": [
    "What is the area of a circle with a radius of 7cm?"
   ]
  },
  {
   "cell_type": "code",
   "execution_count": null,
   "metadata": {},
   "outputs": [],
   "source": []
  },
  {
   "cell_type": "markdown",
   "metadata": {},
   "source": [
    "What is the hypotenuse of a right angle with sides of 3in and 4in?"
   ]
  },
  {
   "cell_type": "code",
   "execution_count": null,
   "metadata": {},
   "outputs": [],
   "source": []
  }
 ],
 "metadata": {
  "kernelspec": {
   "display_name": "Python 3 (ipykernel)",
   "language": "python",
   "name": "python3"
  },
  "language_info": {
   "codemirror_mode": {
    "name": "ipython",
    "version": 3
   },
   "file_extension": ".py",
   "mimetype": "text/x-python",
   "name": "python",
   "nbconvert_exporter": "python",
   "pygments_lexer": "ipython3",
   "version": "3.12.0"
  }
 },
 "nbformat": 4,
 "nbformat_minor": 4
}
